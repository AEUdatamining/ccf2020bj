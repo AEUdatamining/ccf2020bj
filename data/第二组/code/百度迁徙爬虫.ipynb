{
 "cells": [
  {
   "cell_type": "markdown",
   "metadata": {
    "toc": true
   },
   "source": [
    "<h1>Table of Contents<span class=\"tocSkip\"></span></h1>\n",
    "<div class=\"toc\"><ul class=\"toc-item\"><li><span><a href=\"#百度迁移迁入迁出\" data-toc-modified-id=\"百度迁移迁入迁出-1\"><span class=\"toc-item-num\">1&nbsp;&nbsp;</span>百度迁移迁入迁出</a></span></li><li><span><a href=\"#出行强度\" data-toc-modified-id=\"出行强度-2\"><span class=\"toc-item-num\">2&nbsp;&nbsp;</span>出行强度</a></span></li><li><span><a href=\"#迁徙方向\" data-toc-modified-id=\"迁徙方向-3\"><span class=\"toc-item-num\">3&nbsp;&nbsp;</span>迁徙方向</a></span></li></ul></div>"
   ]
  },
  {
   "cell_type": "markdown",
   "metadata": {},
   "source": [
    "## 百度迁移迁入迁出"
   ]
  },
  {
   "cell_type": "code",
   "execution_count": 1,
   "metadata": {
    "ExecuteTime": {
     "end_time": "2020-03-30T03:59:51.149771Z",
     "start_time": "2020-03-30T03:59:51.043057Z"
    }
   },
   "outputs": [],
   "source": [
    "ChineseAdminiDivisionsDict.py\n",
    "\n",
    "\n",
    "CitiesCode = {\n",
    "                '北京市':110000,'天津市':120000,\n",
    "                '石家庄市':130100,'唐山市':130200,'秦皇岛市':130300,'邯郸市':130400,'邢台市':130500,'保定市':130600,'张家口市':130700,'承德市':130800,'沧州市':130900,'廊坊市':131000,'衡水市':131100,\n",
    "                '太原市':140100,'大同市':140200,'阳泉市':140300,'长治市':140400,'晋城市':140500,'朔州市':140600,'晋中市':140700,'运城市':140800,'忻州市':140900,'临汾市':141000,'吕梁市':141100,\n",
    "                '呼和浩特市':150100,'包头市':150200,'乌海市':150300,'赤峰市':150400,'通辽市':150500,'鄂尔多斯市':150600,'呼伦贝尔市':150700,'巴彦淖尔市':150800,'乌兰察布市':150900,'兴安盟':152200,'锡林郭勒盟':152500,'阿拉善盟':152900,\n",
    "                '沈阳市':210100,'大连市':210200,'鞍山市':210300,'抚顺市':210400,'本溪市':210500,'丹东市':210600,'锦州市':210700,'营口市':210800,'阜新市':210900,'辽阳市':211000,'盘锦市':211100,'铁岭市':211200,'朝阳市':211300,'葫芦岛市':211400,\n",
    "                '长春市':220100,'吉林市':220200,'四平市':220300,'辽源市':220400,'通化市':220500,'白山市':220600,'松原市':220700,'白城市':220800,'延边朝鲜族自治州':222400,\n",
    "                '哈尔滨市':230100,'齐齐哈尔市':230200,'鸡西市':230300,'鹤岗市':230400,'双鸭山市':230500,'大庆市':230600,'伊春市':230700,'佳木斯市':230800,'七台河市':230900,'牡丹江市':231000,'黑河市':231100,'绥化市':231200,'大兴安岭地区':232700,\n",
    "                '上海市':310000,\n",
    "                '南京市':320100,'无锡市':320200,'徐州市':320300,'常州市':320400,'苏州市':320500,'南通市':320600,'连云港市':320700,'淮安市':320800,'盐城市':320900,'扬州市':321000,'镇江市':321100,'泰州市':321200,'宿迁市':321300,\n",
    "                '杭州市':330100,'宁波市':330200,'温州市':330500,'嘉兴市':330400,'湖州市':330500,'绍兴市':330600,'金华市':330700,'衢州市':330800,'舟山市':330900,'台州市':331000,'丽水市':331100,\n",
    "                '合肥市':340100,'芜湖市':340200,'蚌埠市':340300,'淮南市':340400,'马鞍山市':340500,'淮北市':340600,'铜陵市':340700,'安庆市':340800,'黄山市':341000,'滁州市':341100,'阜阳市':341200,'宿州市':341300,'六安市':341500,'亳州市':341600,'池州市':341700,'宣城市':341800,\n",
    "                '福州市':350100,'厦门市':350200,'莆田市':350300,'三明市':350400,'泉州市':350500,'漳州市':350600,'南平市':350700,'龙岩市':350800,'宁德市':350900,\n",
    "                '南昌市':360100,'景德镇市':360200,'萍乡市':360300,'九江市':360400,'新余市':360500,'鹰潭市':360600,'赣州市':360700,'吉安市':360800,'宜春市':360900,'抚州市':361000,'上饶市':361100,\n",
    "                '济南市':370100,'青岛市':370200,'淄博市':370300,'枣庄市':370400,'东营市':370500,'烟台市':370600,'潍坊市':370700,'济宁市':370800,'泰安市':370900,'威海市':371000,'日照市':371100,'临沂市':371300,'德州市':371400,'聊城市':371500,'滨州市':371600,'菏泽市':371700,\n",
    "                '郑州市':410100,'开封市':410200,'洛阳市':410300,'平顶山市':410400,'安阳市':410500,'鹤壁市':410600,'新乡市':410700,'焦作市':410800,'濮阳市':410900,'许昌市':411000,'漯河市':411100,'三门峡市':411200,'南阳市':411300,'商丘市':411400,'信阳市':411500,'周口市':411600,'驻马店市':411700,'济源市':419001,\n",
    "                '武汉市':420100,'黄石市':420200,'十堰市':420300,'宜昌市':420500,'襄阳市':420600,'鄂州市':420700,'荆门市':420800,'孝感市':420900,'荆州市':421000,'黄冈市':421100,'咸宁市':421200,'随州市':421300,'恩施土家族苗族自治州':422800,'仙桃市':429004,'潜江市':429005,'天门市':429006,'神农架林区':429021,\n",
    "                '长沙市':430100,'株洲市':430200,'湘潭市':430300,'衡阳市':430400,'邵阳市':430500,'岳阳市':430600,'常德市':430700,'张家界市':430800,'益阳市':430900,'郴州市':431000,'永州市':431100,'怀化市':431200,'娄底市':431300,'湘西土家族苗族自治州':433100,\n",
    "                '广州市':440100,'韶关市':440200,'深圳市':440300,'珠海市':440400,'汕头市':440500,'佛山市':440600,'江门市':440700,'湛江市':440800,'茂名市':440900,'肇庆市':441200,'惠州市':441300,'梅州市':441400,'汕尾市':441500,'河源市':441600,'阳江市':441700,'清远市':441800,'东莞市':441900,'中山市':442000,'潮州市':445100,'揭阳市':445200,'云浮市':445300,\n",
    "                '南宁市':450100,'柳州市':450200,'桂林市':450300,'梧州市':450400,'北海市':450500,'防城港市':450600,'钦州市':450700,'贵港市':450800,'玉林市':450900,'百色市':451000,'贺州市':451100,'河池市':451200,'来宾市':451300,'崇左市':451400,\n",
    "                '海口市':460100,'三亚市':460200,'三沙市':460300,'儋州市':460400,'五指山市':469001,'琼海市':469002,'文昌市':469005,'万宁市':469006,'东方市':469007,'定安县':469021,'屯昌县':469022,'澄迈县':469023,'临高县':469024,'白沙黎族自治县':469025,'昌江黎族自治县':469026,'乐东黎族自治县':469027,'陵水黎族自治县':469028,'保亭黎族苗族自治县':469029,'琼中黎族苗族自治县':469030,\n",
    "                '重庆市':500000,\n",
    "                '成都市':510100,'自贡市':510300,'攀枝花市':510400,'泸州市':510500,'德阳市':510600,'绵阳市':510700,'广元市':510800,'遂宁市':510900,'内江市':511000,'乐山市':511100,'南充市':511300,'眉山市':511400,'宜宾市':511500,'广安市':511600,'达州市':511700,'雅安市':511800,'巴中市':511900,'资阳市':512000,'阿坝藏族羌族自治州':513200,'甘孜藏族自治州':513300,'凉山彝族自治州':513400,\n",
    "                '贵阳市':520100,'六盘水市':520200,'遵义市':520300,'安顺市':520400,'毕节市':520500,'铜仁市':520600,'黔西南布依族苗族自治州':522300,'黔东南苗族侗族自治州':522600,'黔南布依族苗族自治州':522700,\n",
    "                '昆明市':530100,'曲靖市':530300,'玉溪市':530400,'保山市':530500,'昭通市':530600,'丽江市':530700,'普洱市':530800,'临沧市':530900,'楚雄彝族自治州':532300,'红河哈尼族彝族自治州':532500,'文山壮族苗族自治州':532600,'西双版纳傣族自治州':532800,'大理白族自治州':532900,'德宏傣族景颇族自治州':533100,'怒江傈僳族自治州':533300,'迪庆藏族自治州':533400,\n",
    "                '拉萨市':540100,'日喀则市':540200,'昌都市':540300,'林芝市':540400,'山南市':540500,'那曲市':540600,'阿里地区':542500,\n",
    "                '西安市':610100,'铜川市':610200,'宝鸡市':610300,'咸阳市':610400,'渭南市':610500,'延安市':610600,'汉中市':610700,'榆林市':610800,'安康市':610900,'商洛市':611000,\n",
    "                '兰州市':620100,'嘉峪关市':620200,'金昌市':620300,'白银市':620400,'天水市':620500,'武威市':620600,'张掖市':620700,'平凉市':620800,'酒泉市':620900,'庆阳市':621000,'定西市':621100,'陇南市':621200,'临夏回族自治州':622900,'甘南藏族自治州':623000,\n",
    "                '西宁市':630100,'海东市':630200,'海北藏族自治州':632200,'黄南藏族自治州':632300,'海南藏族自治州':632500,'果洛藏族自治州':632600,'玉树藏族自治州':632700,'海西蒙古族藏族自治州':632800,\n",
    "                '银川市':640100,'石嘴山市':640200,'吴忠市':640300,'固原市':640400,'中卫市':640500,\n",
    "                '乌鲁木齐市':650100,'克拉玛依市':650200,'吐鲁番市':650400,'哈密市':650500,'昌吉回族自治州':652300,'博尔塔拉蒙古自治州':652700,'巴音郭楞蒙古自治州':652800,'阿克苏地区':652900,'克孜勒苏柯尔克孜自治州':653000,'喀什地区':653100,'和田地区':653200,'伊犁哈萨克自治州':654000,'塔城地区':654200,'阿勒泰地区':654300,\n",
    "                '石河子市':659001,'阿拉尔市':659002,'图木舒克市':659003,'五家渠市':659004,'北屯市':659005,'铁门关市':659006,'双河市':659007,'可克达拉市':659008,'昆玉市':659009,\n",
    "                '台湾省':710000,'香港特别行政区':810000,'澳门特别行政区':820000\n",
    "\n",
    "                }\n",
    "\n",
    "ProvinceCode = {\n",
    "    '北京市':110000,'天津市':120000,'河北省':130000,'山西省':140000,'内蒙古自治区':150000,\n",
    "    '辽宁省':210000,'吉林省':220000,'黑龙江省':230000,\n",
    "    '上海市':310000,'江苏省':320000,'浙江省':330000,'安徽省':340000,'福建省':350000,'江西省':360000,'山东省':370000,\n",
    "    '河南省':410000,'湖北省':420000,'湖南省':430000,'广东省':440000,'广西自治区':450000,'海南省':460000,\n",
    "    '重庆市':500000,'四川省':510000,'贵州省':520000,'云南省':530000,'西藏自治区':540000,\n",
    "    '陕西省':610000,'甘肃省':620000,'青海省':630000,'宁夏自治区':640000,'新疆自治区':650000,\n",
    "    '台湾省':710000,'香港特别行政区':810000,'澳门特别行政区':820000\n",
    "    }\n",
    "\n",
    "\n",
    "\n"
   ]
  },
  {
   "cell_type": "code",
   "execution_count": 5,
   "metadata": {
    "ExecuteTime": {
     "end_time": "2020-03-30T04:06:04.548143Z",
     "start_time": "2020-03-30T04:05:45.029229Z"
    }
   },
   "outputs": [
    {
     "name": "stdout",
     "output_type": "stream",
     "text": [
      "北京市:http://huiyan.baidu.com/migration/historycurve.jsonp?dt=city&id=110000&type=move_in\n",
      "北京市:http://huiyan.baidu.com/migration/historycurve.jsonp?dt=city&id=110000&type=move_out\n",
      "全部完成\n"
     ]
    }
   ],
   "source": [
    "# -*- coding: utf-8 -*-\n",
    "CitiesCode = {'北京市':110000}\n",
    "ProvinceCode = {'北京市':110000}\n",
    "import requests #导入请求模块\n",
    "import json #导入json模块\n",
    "import time #导入时间模块\n",
    "import xlrd\n",
    "import xlwt\n",
    "\n",
    "def migration_index(FileTittle,classname,direction,CodeDict): #CodeDict字典里所有城市的迁徙规模指数，以全国列表形式列出\n",
    "    #######创建一个workbook########\n",
    "    workbook = xlwt.Workbook(encoding = 'utf-8')    # 创建一个workbook 设置编码\n",
    "    worksheet = workbook.add_sheet('Sheet', cell_overwrite_ok=True)    # 创建一个worksheet\n",
    "    #################写入行头各城市代码及其城市名###############\n",
    "    if direction == 'in' :\n",
    "        nameofdire = '迁入'\n",
    "    if direction == 'out':\n",
    "        nameofdire = '迁出'\n",
    "    CitiesOrder = {}                         #存放城市序号的空字典\n",
    "    worksheet.write(0 , 0 , label='城市代码')                      #写入行头\n",
    "    worksheet.write(0 , 1 , label='城市')                 #写入行头\n",
    "    times = 1\n",
    "    for key , value in CodeDict.items():\n",
    "        worksheet.write(times , 0 , label=str(value))                #写入城市代码\n",
    "        worksheet.write(times , 1 , label=str(key))                  #写入城市名\n",
    "        CitiesOrder[str(key)] = times                                #写入城市序号字典 \n",
    "        times += 1\n",
    "    ########################开始抓取数据##############################\n",
    "    for Area , Code in CodeDict.items():\n",
    "        url=f'http://huiyan.baidu.com/migration/historycurve.jsonp?dt={classname}&id={Code}&type=move_{direction}'\n",
    "        print(f'{Area}:{url}')\n",
    "        response=requests.get(url, timeout=10) # #发出请求并json化处理\n",
    "        time.sleep(5)  #挂起五秒\n",
    "        r=response.text[3:-1] #去头去尾\n",
    "        data_dict=json.loads(r) #字典化\n",
    "        if data_dict['errmsg']=='SUCCESS':\n",
    "            data_list=data_dict['data']['list']\n",
    "            counter_date = 2        #日期计数器\n",
    "            datelist = []\n",
    "            for date , index in data_list.items():      #按日期排序\n",
    "                datelist.append(date)\n",
    "            datelist.sort()\n",
    "            for date in datelist:\n",
    "                index = data_list[date]\n",
    "                # print(f'{date} : {index}')\n",
    "                worksheet.write(0 , counter_date , label=date)\n",
    "                worksheet.write(CitiesOrder[str(Area)] , counter_date , label=index)\n",
    "                counter_date += 1   #日期计数器自加一\n",
    "        else:\n",
    "            print('错误')\n",
    "    workbook.save(f'{FileTittle} {nameofdire}规模指数.xls')\n",
    "\n",
    "quanguo = {'全国':0}               #全国编码\n",
    "\n",
    "if __name__==\"__main__\":\n",
    "    CitiesCode = {'北京市':110000}\n",
    "    ProvinceCode = {'北京市':110000}\n",
    "    migration_index('城市','city','in',CitiesCode)\n",
    "    migration_index('城市','city','out',CitiesCode)\n",
    "    print('全部完成')\n",
    "\n",
    "\n"
   ]
  },
  {
   "cell_type": "markdown",
   "metadata": {},
   "source": [
    "## 出行强度"
   ]
  },
  {
   "cell_type": "code",
   "execution_count": 6,
   "metadata": {
    "ExecuteTime": {
     "end_time": "2020-03-30T04:10:51.092627Z",
     "start_time": "2020-03-30T04:10:37.758296Z"
    }
   },
   "outputs": [
    {
     "name": "stdout",
     "output_type": "stream",
     "text": [
      "北京市:http://huiyan.baidu.com/migration/internalflowhistory.jsonp?dt=city&id=110000&date=0\n",
      "天津市:http://huiyan.baidu.com/migration/internalflowhistory.jsonp?dt=city&id=120000&date=0\n"
     ]
    },
    {
     "ename": "KeyboardInterrupt",
     "evalue": "",
     "output_type": "error",
     "traceback": [
      "\u001b[1;31m---------------------------------------------------------------------------\u001b[0m",
      "\u001b[1;31mKeyboardInterrupt\u001b[0m                         Traceback (most recent call last)",
      "\u001b[1;32m<ipython-input-6-5b41570d53b0>\u001b[0m in \u001b[0;36m<module>\u001b[1;34m\u001b[0m\n\u001b[0;32m     85\u001b[0m \u001b[1;33m\u001b[0m\u001b[0m\n\u001b[0;32m     86\u001b[0m \u001b[1;32mif\u001b[0m \u001b[0m__name__\u001b[0m\u001b[1;33m==\u001b[0m\u001b[1;34m\"__main__\"\u001b[0m\u001b[1;33m:\u001b[0m\u001b[1;33m\u001b[0m\u001b[1;33m\u001b[0m\u001b[0m\n\u001b[1;32m---> 87\u001b[1;33m     \u001b[0minternalflow_all_date\u001b[0m\u001b[1;33m(\u001b[0m\u001b[0mCities\u001b[0m\u001b[1;33m)\u001b[0m\u001b[1;33m\u001b[0m\u001b[1;33m\u001b[0m\u001b[0m\n\u001b[0m\u001b[0;32m     88\u001b[0m     \u001b[0mprint\u001b[0m\u001b[1;33m(\u001b[0m\u001b[1;34m'全部完成'\u001b[0m\u001b[1;33m)\u001b[0m\u001b[1;33m\u001b[0m\u001b[1;33m\u001b[0m\u001b[0m\n",
      "\u001b[1;32m<ipython-input-6-5b41570d53b0>\u001b[0m in \u001b[0;36minternalflow_all_date\u001b[1;34m(CodeDict)\u001b[0m\n\u001b[0;32m     25\u001b[0m         \u001b[0mprint\u001b[0m\u001b[1;33m(\u001b[0m\u001b[1;34mf'{Area}:{url}'\u001b[0m\u001b[1;33m)\u001b[0m\u001b[1;33m\u001b[0m\u001b[1;33m\u001b[0m\u001b[0m\n\u001b[0;32m     26\u001b[0m         \u001b[0mresponse\u001b[0m\u001b[1;33m=\u001b[0m\u001b[0mrequests\u001b[0m\u001b[1;33m.\u001b[0m\u001b[0mget\u001b[0m\u001b[1;33m(\u001b[0m\u001b[0murl\u001b[0m\u001b[1;33m,\u001b[0m \u001b[0mtimeout\u001b[0m\u001b[1;33m=\u001b[0m\u001b[1;36m10\u001b[0m\u001b[1;33m)\u001b[0m \u001b[1;31m# #发出请求并json化处理\u001b[0m\u001b[1;33m\u001b[0m\u001b[1;33m\u001b[0m\u001b[0m\n\u001b[1;32m---> 27\u001b[1;33m         \u001b[0mtime\u001b[0m\u001b[1;33m.\u001b[0m\u001b[0msleep\u001b[0m\u001b[1;33m(\u001b[0m\u001b[1;36m5\u001b[0m\u001b[1;33m)\u001b[0m  \u001b[1;31m#挂起五秒\u001b[0m\u001b[1;33m\u001b[0m\u001b[1;33m\u001b[0m\u001b[0m\n\u001b[0m\u001b[0;32m     28\u001b[0m         \u001b[0mr\u001b[0m\u001b[1;33m=\u001b[0m\u001b[0mresponse\u001b[0m\u001b[1;33m.\u001b[0m\u001b[0mtext\u001b[0m\u001b[1;33m[\u001b[0m\u001b[1;36m3\u001b[0m\u001b[1;33m:\u001b[0m\u001b[1;33m-\u001b[0m\u001b[1;36m1\u001b[0m\u001b[1;33m]\u001b[0m \u001b[1;31m#去头去尾\u001b[0m\u001b[1;33m\u001b[0m\u001b[1;33m\u001b[0m\u001b[0m\n\u001b[0;32m     29\u001b[0m         \u001b[0mdata_dict\u001b[0m\u001b[1;33m=\u001b[0m\u001b[0mjson\u001b[0m\u001b[1;33m.\u001b[0m\u001b[0mloads\u001b[0m\u001b[1;33m(\u001b[0m\u001b[0mr\u001b[0m\u001b[1;33m)\u001b[0m \u001b[1;31m#字典化\u001b[0m\u001b[1;33m\u001b[0m\u001b[1;33m\u001b[0m\u001b[0m\n",
      "\u001b[1;31mKeyboardInterrupt\u001b[0m: "
     ]
    }
   ],
   "source": [
    "# -*- coding: utf-8 -*-\n",
    "import requests #导入请求模块\n",
    "import json #导入json模块\n",
    "import time #导入时间模块\n",
    "import xlrd\n",
    "import xlwt\n",
    "\n",
    "def internalflow_all_date(CodeDict): #CodeDict字典里所有城市的迁徙规模指数，以全国列表形式列出\n",
    "    #######创建一个workbook########\n",
    "    workbook = xlwt.Workbook(encoding = 'utf-8')    # 创建一个workbook 设置编码\n",
    "    worksheet = workbook.add_sheet('Sheet', cell_overwrite_ok=True)    # 创建一个worksheet\n",
    "    #################写入行头各城市代码及其城市名###############\n",
    "    CitiesOrder = {}                         #存放城市序号的空字典\n",
    "    worksheet.write(0 , 0 , label='城市代码')                      #写入行头\n",
    "    worksheet.write(0 , 1 , label='城市')                 #写入行头\n",
    "    times = 1\n",
    "    for key , value in CodeDict.items():\n",
    "        worksheet.write(times , 0 , label=str(value))                #写入城市代码\n",
    "        worksheet.write(times , 1 , label=str(key))                  #写入城市名\n",
    "        CitiesOrder[str(key)] = times                                #写入城市序号字典 \n",
    "        times += 1\n",
    "    ########################开始抓取数据##############################\n",
    "    for Area , Code in CodeDict.items():\n",
    "        url=f'http://huiyan.baidu.com/migration/internalflowhistory.jsonp?dt=city&id={Code}&date=0'\n",
    "        print(f'{Area}:{url}')\n",
    "        response=requests.get(url, timeout=10) # #发出请求并json化处理\n",
    "        time.sleep(5)  #挂起五秒\n",
    "        r=response.text[3:-1] #去头去尾\n",
    "        data_dict=json.loads(r) #字典化\n",
    "        if data_dict['errmsg']=='SUCCESS':\n",
    "            data_list=data_dict['data']['list']\n",
    "            counter_date = 2        #日期计数器\n",
    "            datelist = []\n",
    "            for date , index in data_list.items():      #按日期排序\n",
    "                datelist.append(date)\n",
    "            datelist.sort()\n",
    "            for date in datelist:\n",
    "                index = data_list[date]\n",
    "                # print(f'{date} : {index}')\n",
    "                worksheet.write(0 , counter_date , label=date)\n",
    "                worksheet.write(CitiesOrder[str(Area)] , counter_date , label=index)\n",
    "                counter_date += 1   #日期计数器自加一\n",
    "        else:\n",
    "            print('错误')\n",
    "    workbook.save('城市城内出行强度.xls')\n",
    "\n",
    "\n",
    "#台湾省搜不到数据，因此新建一个字典Cities\n",
    "Cities = {\n",
    "                '北京市':110000,'天津市':120000,\n",
    "                '石家庄市':130100,'唐山市':130200,'秦皇岛市':130300,'邯郸市':130400,'邢台市':130500,'保定市':130600,'张家口市':130700,'承德市':130800,'沧州市':130900,'廊坊市':131000,'衡水市':131100,\n",
    "                '太原市':140100,'大同市':140200,'阳泉市':140300,'长治市':140400,'晋城市':140500,'朔州市':140600,'晋中市':140700,'运城市':140800,'忻州市':140900,'临汾市':141000,'吕梁市':141100,\n",
    "                '呼和浩特市':150100,'包头市':150200,'乌海市':150300,'赤峰市':150400,'通辽市':150500,'鄂尔多斯市':150600,'呼伦贝尔市':150700,'巴彦淖尔市':150800,'乌兰察布市':150900,'兴安盟':152200,'锡林郭勒盟':152500,'阿拉善盟':152900,\n",
    "                '沈阳市':210100,'大连市':210200,'鞍山市':210300,'抚顺市':210400,'本溪市':210500,'丹东市':210600,'锦州市':210700,'营口市':210800,'阜新市':210900,'辽阳市':211000,'盘锦市':211100,'铁岭市':211200,'朝阳市':211300,'葫芦岛市':211400,\n",
    "                '长春市':220100,'吉林市':220200,'四平市':220300,'辽源市':220400,'通化市':220500,'白山市':220600,'松原市':220700,'白城市':220800,'延边朝鲜族自治州':222400,\n",
    "                '哈尔滨市':230100,'齐齐哈尔市':230200,'鸡西市':230300,'鹤岗市':230400,'双鸭山市':230500,'大庆市':230600,'伊春市':230700,'佳木斯市':230800,'七台河市':230900,'牡丹江市':231000,'黑河市':231100,'绥化市':231200,'大兴安岭地区':232700,\n",
    "                '上海市':310000,\n",
    "                '南京市':320100,'无锡市':320200,'徐州市':320300,'常州市':320400,'苏州市':320500,'南通市':320600,'连云港市':320700,'淮安市':320800,'盐城市':320900,'扬州市':321000,'镇江市':321100,'泰州市':321200,'宿迁市':321300,\n",
    "                '杭州市':330100,'宁波市':330200,'温州市':330500,'嘉兴市':330400,'湖州市':330500,'绍兴市':330600,'金华市':330700,'衢州市':330800,'舟山市':330900,'台州市':331000,'丽水市':331100,\n",
    "                '合肥市':340100,'芜湖市':340200,'蚌埠市':340300,'淮南市':340400,'马鞍山市':340500,'淮北市':340600,'铜陵市':340700,'安庆市':340800,'黄山市':341000,'滁州市':341100,'阜阳市':341200,'宿州市':341300,'六安市':341500,'亳州市':341600,'池州市':341700,'宣城市':341800,\n",
    "                '福州市':350100,'厦门市':350200,'莆田市':350300,'三明市':350400,'泉州市':350500,'漳州市':350600,'南平市':350700,'龙岩市':350800,'宁德市':350900,\n",
    "                '南昌市':360100,'景德镇市':360200,'萍乡市':360300,'九江市':360400,'新余市':360500,'鹰潭市':360600,'赣州市':360700,'吉安市':360800,'宜春市':360900,'抚州市':361000,'上饶市':361100,\n",
    "                '济南市':370100,'青岛市':370200,'淄博市':370300,'枣庄市':370400,'东营市':370500,'烟台市':370600,'潍坊市':370700,'济宁市':370800,'泰安市':370900,'威海市':371000,'日照市':371100,'临沂市':371300,'德州市':371400,'聊城市':371500,'滨州市':371600,'菏泽市':371700,\n",
    "                '郑州市':410100,'开封市':410200,'洛阳市':410300,'平顶山市':410400,'安阳市':410500,'鹤壁市':410600,'新乡市':410700,'焦作市':410800,'濮阳市':410900,'许昌市':411000,'漯河市':411100,'三门峡市':411200,'南阳市':411300,'商丘市':411400,'信阳市':411500,'周口市':411600,'驻马店市':411700,'济源市':419001,\n",
    "                '武汉市':420100,'黄石市':420200,'十堰市':420300,'宜昌市':420500,'襄阳市':420600,'鄂州市':420700,'荆门市':420800,'孝感市':420900,'荆州市':421000,'黄冈市':421100,'咸宁市':421200,'随州市':421300,'恩施土家族苗族自治州':422800,'仙桃市':429004,'潜江市':429005,'天门市':429006,'神农架林区':429021,\n",
    "                '长沙市':430100,'株洲市':430200,'湘潭市':430300,'衡阳市':430400,'邵阳市':430500,'岳阳市':430600,'常德市':430700,'张家界市':430800,'益阳市':430900,'郴州市':431000,'永州市':431100,'怀化市':431200,'娄底市':431300,'湘西土家族苗族自治州':433100,\n",
    "                '广州市':440100,'韶关市':440200,'深圳市':440300,'珠海市':440400,'汕头市':440500,'佛山市':440600,'江门市':440700,'湛江市':440800,'茂名市':440900,'肇庆市':441200,'惠州市':441300,'梅州市':441400,'汕尾市':441500,'河源市':441600,'阳江市':441700,'清远市':441800,'东莞市':441900,'中山市':442000,'潮州市':445100,'揭阳市':445200,'云浮市':445300,\n",
    "                '南宁市':450100,'柳州市':450200,'桂林市':450300,'梧州市':450400,'北海市':450500,'防城港市':450600,'钦州市':450700,'贵港市':450800,'玉林市':450900,'百色市':451000,'贺州市':451100,'河池市':451200,'来宾市':451300,'崇左市':451400,\n",
    "                '海口市':460100,'三亚市':460200,'三沙市':460300,'儋州市':460400,'五指山市':469001,'琼海市':469002,'文昌市':469005,'万宁市':469006,'东方市':469007,'定安县':469021,'屯昌县':469022,'澄迈县':469023,'临高县':469024,'白沙黎族自治县':469025,'昌江黎族自治县':469026,'乐东黎族自治县':469027,'陵水黎族自治县':469028,'保亭黎族苗族自治县':469029,'琼中黎族苗族自治县':469030,\n",
    "                '重庆市':500000,\n",
    "                '成都市':510100,'自贡市':510300,'攀枝花市':510400,'泸州市':510500,'德阳市':510600,'绵阳市':510700,'广元市':510800,'遂宁市':510900,'内江市':511000,'乐山市':511100,'南充市':511300,'眉山市':511400,'宜宾市':511500,'广安市':511600,'达州市':511700,'雅安市':511800,'巴中市':511900,'资阳市':512000,'阿坝藏族羌族自治州':513200,'甘孜藏族自治州':513300,'凉山彝族自治州':513400,\n",
    "                '贵阳市':520100,'六盘水市':520200,'遵义市':520300,'安顺市':520400,'毕节市':520500,'铜仁市':520600,'黔西南布依族苗族自治州':522300,'黔东南苗族侗族自治州':522600,'黔南布依族苗族自治州':522700,\n",
    "                '昆明市':530100,'曲靖市':530300,'玉溪市':530400,'保山市':530500,'昭通市':530600,'丽江市':530700,'普洱市':530800,'临沧市':530900,'楚雄彝族自治州':532300,'红河哈尼族彝族自治州':532500,'文山壮族苗族自治州':532600,'西双版纳傣族自治州':532800,'大理白族自治州':532900,'德宏傣族景颇族自治州':533100,'怒江傈僳族自治州':533300,'迪庆藏族自治州':533400,\n",
    "                '拉萨市':540100,'日喀则市':540200,'昌都市':540300,'林芝市':540400,'山南市':540500,'那曲市':540600,'阿里地区':542500,\n",
    "                '西安市':610100,'铜川市':610200,'宝鸡市':610300,'咸阳市':610400,'渭南市':610500,'延安市':610600,'汉中市':610700,'榆林市':610800,'安康市':610900,'商洛市':611000,\n",
    "                '兰州市':620100,'嘉峪关市':620200,'金昌市':620300,'白银市':620400,'天水市':620500,'武威市':620600,'张掖市':620700,'平凉市':620800,'酒泉市':620900,'庆阳市':621000,'定西市':621100,'陇南市':621200,'临夏回族自治州':622900,'甘南藏族自治州':623000,\n",
    "                '西宁市':630100,'海东市':630200,'海北藏族自治州':632200,'黄南藏族自治州':632300,'海南藏族自治州':632500,'果洛藏族自治州':632600,'玉树藏族自治州':632700,'海西蒙古族藏族自治州':632800,\n",
    "                '银川市':640100,'石嘴山市':640200,'吴忠市':640300,'固原市':640400,'中卫市':640500,\n",
    "                '乌鲁木齐市':650100,'克拉玛依市':650200,'吐鲁番市':650400,'哈密市':650500,'昌吉回族自治州':652300,'博尔塔拉蒙古自治州':652700,'巴音郭楞蒙古自治州':652800,'阿克苏地区':652900,'克孜勒苏柯尔克孜自治州':653000,'喀什地区':653100,'和田地区':653200,'伊犁哈萨克自治州':654000,'塔城地区':654200,'阿勒泰地区':654300,\n",
    "                '石河子市':659001,'阿拉尔市':659002,'图木舒克市':659003,'五家渠市':659004,'北屯市':659005,'铁门关市':659006,'双河市':659007,'可克达拉市':659008,'昆玉市':659009,\n",
    "                '香港特别行政区':810000,'澳门特别行政区':820000\n",
    "\n",
    "                }\n",
    "\n",
    "\n",
    "if __name__==\"__main__\":\n",
    "    internalflow_all_date(Cities)\n",
    "    print('全部完成')\n"
   ]
  },
  {
   "cell_type": "code",
   "execution_count": 7,
   "metadata": {
    "ExecuteTime": {
     "end_time": "2020-03-30T04:11:43.405229Z",
     "start_time": "2020-03-30T04:11:36.924565Z"
    }
   },
   "outputs": [
    {
     "name": "stdout",
     "output_type": "stream",
     "text": [
      "北京市:http://huiyan.baidu.com/migration/internalflowhistory.jsonp?dt=city&id=110000&date=0\n",
      "全部完成\n"
     ]
    }
   ],
   "source": [
    "# -*- coding: utf-8 -*-\n",
    "import requests #导入请求模块\n",
    "import json #导入json模块\n",
    "import time #导入时间模块\n",
    "import xlrd\n",
    "import xlwt\n",
    "\n",
    "def internalflow_all_date(CodeDict): #CodeDict字典里所有城市的迁徙规模指数，以全国列表形式列出\n",
    "    #######创建一个workbook########\n",
    "    workbook = xlwt.Workbook(encoding = 'utf-8')    # 创建一个workbook 设置编码\n",
    "    worksheet = workbook.add_sheet('Sheet', cell_overwrite_ok=True)    # 创建一个worksheet\n",
    "    #################写入行头各城市代码及其城市名###############\n",
    "    CitiesOrder = {}                         #存放城市序号的空字典\n",
    "    worksheet.write(0 , 0 , label='城市代码')                      #写入行头\n",
    "    worksheet.write(0 , 1 , label='城市')                 #写入行头\n",
    "    times = 1\n",
    "    for key , value in CodeDict.items():\n",
    "        worksheet.write(times , 0 , label=str(value))                #写入城市代码\n",
    "        worksheet.write(times , 1 , label=str(key))                  #写入城市名\n",
    "        CitiesOrder[str(key)] = times                                #写入城市序号字典 \n",
    "        times += 1\n",
    "    ########################开始抓取数据##############################\n",
    "    for Area , Code in CodeDict.items():\n",
    "        url=f'http://huiyan.baidu.com/migration/internalflowhistory.jsonp?dt=city&id={Code}&date=0'\n",
    "        print(f'{Area}:{url}')\n",
    "        response=requests.get(url, timeout=10) # #发出请求并json化处理\n",
    "        time.sleep(5)  #挂起五秒\n",
    "        r=response.text[3:-1] #去头去尾\n",
    "        data_dict=json.loads(r) #字典化\n",
    "        if data_dict['errmsg']=='SUCCESS':\n",
    "            data_list=data_dict['data']['list']\n",
    "            counter_date = 2        #日期计数器\n",
    "            datelist = []\n",
    "            for date , index in data_list.items():      #按日期排序\n",
    "                datelist.append(date)\n",
    "            datelist.sort()\n",
    "            for date in datelist:\n",
    "                index = data_list[date]\n",
    "                # print(f'{date} : {index}')\n",
    "                worksheet.write(0 , counter_date , label=date)\n",
    "                worksheet.write(CitiesOrder[str(Area)] , counter_date , label=index)\n",
    "                counter_date += 1   #日期计数器自加一\n",
    "        else:\n",
    "            print('错误')\n",
    "    workbook.save('城市城内出行强度.xls')\n",
    "\n",
    "\n",
    "#台湾省搜不到数据，因此新建一个字典Cities\n",
    "Cities = {\n",
    "                '北京市':110000\n",
    "\n",
    "                }\n",
    "\n",
    "\n",
    "if __name__==\"__main__\":\n",
    "    internalflow_all_date(Cities)\n",
    "    print('全部完成')\n"
   ]
  },
  {
   "cell_type": "markdown",
   "metadata": {
    "ExecuteTime": {
     "end_time": "2020-03-30T04:13:36.761989Z",
     "start_time": "2020-03-30T04:13:36.756004Z"
    }
   },
   "source": [
    "## 迁徙方向"
   ]
  },
  {
   "cell_type": "code",
   "execution_count": 11,
   "metadata": {
    "ExecuteTime": {
     "end_time": "2020-03-30T04:15:55.544309Z",
     "start_time": "2020-03-30T04:15:49.975207Z"
    }
   },
   "outputs": [
    {
     "name": "stdout",
     "output_type": "stream",
     "text": [
      "http://huiyan.baidu.com/migration/cityrank.jsonp?dt=province&id=110000&type=move_in&date=20200101\n"
     ]
    },
    {
     "ename": "KeyError",
     "evalue": "'廊坊市'",
     "output_type": "error",
     "traceback": [
      "\u001b[1;31m---------------------------------------------------------------------------\u001b[0m",
      "\u001b[1;31mKeyError\u001b[0m                                  Traceback (most recent call last)",
      "\u001b[1;32m<ipython-input-11-d491a8e67a6d>\u001b[0m in \u001b[0;36m<module>\u001b[1;34m\u001b[0m\n\u001b[0;32m     70\u001b[0m \u001b[1;32mif\u001b[0m \u001b[0m__name__\u001b[0m\u001b[1;33m==\u001b[0m\u001b[1;34m\"__main__\"\u001b[0m\u001b[1;33m:\u001b[0m\u001b[1;33m\u001b[0m\u001b[1;33m\u001b[0m\u001b[0m\n\u001b[0;32m     71\u001b[0m \u001b[1;33m\u001b[0m\u001b[0m\n\u001b[1;32m---> 72\u001b[1;33m     \u001b[0mcircu_exe_direction\u001b[0m\u001b[1;33m(\u001b[0m\u001b[1;34m'北京市'\u001b[0m\u001b[1;33m,\u001b[0m\u001b[1;34m'province'\u001b[0m\u001b[1;33m,\u001b[0m\u001b[1;36m110000\u001b[0m\u001b[1;33m)\u001b[0m\u001b[1;33m\u001b[0m\u001b[1;33m\u001b[0m\u001b[0m\n\u001b[0m\u001b[0;32m     73\u001b[0m     \u001b[0mprint\u001b[0m\u001b[1;33m(\u001b[0m\u001b[1;34m'全部完成'\u001b[0m\u001b[1;33m)\u001b[0m\u001b[1;33m\u001b[0m\u001b[1;33m\u001b[0m\u001b[0m\n",
      "\u001b[1;32m<ipython-input-11-d491a8e67a6d>\u001b[0m in \u001b[0;36mcircu_exe_direction\u001b[1;34m(areaname, classname, no)\u001b[0m\n\u001b[0;32m     64\u001b[0m     \u001b[0mmukous\u001b[0m \u001b[1;33m=\u001b[0m \u001b[1;33m[\u001b[0m\u001b[1;34m'in'\u001b[0m\u001b[1;33m,\u001b[0m\u001b[1;34m'out'\u001b[0m\u001b[1;33m]\u001b[0m\u001b[1;33m\u001b[0m\u001b[1;33m\u001b[0m\u001b[0m\n\u001b[0;32m     65\u001b[0m     \u001b[1;32mfor\u001b[0m \u001b[0mmukou\u001b[0m \u001b[1;32min\u001b[0m \u001b[0mmukous\u001b[0m\u001b[1;33m:\u001b[0m\u001b[1;33m\u001b[0m\u001b[1;33m\u001b[0m\u001b[0m\n\u001b[1;32m---> 66\u001b[1;33m         \u001b[0mmigration_all_date\u001b[0m\u001b[1;33m(\u001b[0m\u001b[0mareaname\u001b[0m\u001b[1;33m,\u001b[0m\u001b[0mclassname\u001b[0m\u001b[1;33m,\u001b[0m\u001b[0mno\u001b[0m\u001b[1;33m,\u001b[0m\u001b[0mmukou\u001b[0m\u001b[1;33m)\u001b[0m\u001b[1;33m\u001b[0m\u001b[1;33m\u001b[0m\u001b[0m\n\u001b[0m\u001b[0;32m     67\u001b[0m     \u001b[0mprint\u001b[0m\u001b[1;33m(\u001b[0m\u001b[0mstr\u001b[0m\u001b[1;33m(\u001b[0m\u001b[0mareaname\u001b[0m\u001b[1;33m)\u001b[0m\u001b[1;33m+\u001b[0m\u001b[1;34m'---'\u001b[0m\u001b[1;33m,\u001b[0m\u001b[1;34m'完成'\u001b[0m\u001b[1;33m)\u001b[0m\u001b[1;33m\u001b[0m\u001b[1;33m\u001b[0m\u001b[0m\n\u001b[0;32m     68\u001b[0m \u001b[1;33m\u001b[0m\u001b[0m\n",
      "\u001b[1;32m<ipython-input-11-d491a8e67a6d>\u001b[0m in \u001b[0;36mmigration_all_date\u001b[1;34m(areaname, classname, no, direction)\u001b[0m\n\u001b[0;32m     56\u001b[0m                 \u001b[0mvalue\u001b[0m\u001b[1;33m=\u001b[0m\u001b[0mdata_list\u001b[0m\u001b[1;33m[\u001b[0m\u001b[0mi\u001b[0m\u001b[1;33m]\u001b[0m\u001b[1;33m[\u001b[0m\u001b[1;34m'value'\u001b[0m\u001b[1;33m]\u001b[0m         \u001b[1;31m#当日迁徙量所占百分比值\u001b[0m\u001b[1;33m\u001b[0m\u001b[1;33m\u001b[0m\u001b[0m\n\u001b[0;32m     57\u001b[0m             \u001b[1;31m##############写入#############\u001b[0m\u001b[1;33m\u001b[0m\u001b[1;33m\u001b[0m\u001b[1;33m\u001b[0m\u001b[0m\n\u001b[1;32m---> 58\u001b[1;33m                 \u001b[0mworksheet\u001b[0m\u001b[1;33m.\u001b[0m\u001b[0mwrite\u001b[0m\u001b[1;33m(\u001b[0m\u001b[0mCitiesOrder\u001b[0m\u001b[1;33m[\u001b[0m\u001b[0mstr\u001b[0m\u001b[1;33m(\u001b[0m\u001b[0mcity_name\u001b[0m\u001b[1;33m)\u001b[0m\u001b[1;33m]\u001b[0m \u001b[1;33m,\u001b[0m \u001b[0mcounter_data\u001b[0m \u001b[1;33m,\u001b[0m \u001b[0mlabel\u001b[0m\u001b[1;33m=\u001b[0m\u001b[0mvalue\u001b[0m\u001b[1;33m)\u001b[0m             \u001b[1;31m#查找城市序号字典，在对应的行里写入相应的值\u001b[0m\u001b[1;33m\u001b[0m\u001b[1;33m\u001b[0m\u001b[0m\n\u001b[0m\u001b[0;32m     59\u001b[0m             \u001b[0mcounter_data\u001b[0m \u001b[1;33m+=\u001b[0m \u001b[1;36m1\u001b[0m                                 \u001b[1;31m#日期计数器自加一\u001b[0m\u001b[1;33m\u001b[0m\u001b[1;33m\u001b[0m\u001b[0m\n\u001b[0;32m     60\u001b[0m     \u001b[0mworkbook\u001b[0m\u001b[1;33m.\u001b[0m\u001b[0msave\u001b[0m\u001b[1;33m(\u001b[0m\u001b[1;34mf\"{areaname}-{nameofdire}.xls\"\u001b[0m\u001b[1;33m)\u001b[0m      \u001b[1;31m#保存\u001b[0m\u001b[1;33m\u001b[0m\u001b[1;33m\u001b[0m\u001b[0m\n",
      "\u001b[1;31mKeyError\u001b[0m: '廊坊市'"
     ]
    }
   ],
   "source": [
    "# -*- coding: utf-8 -*-\n",
    "import requests \n",
    "import json \n",
    "import time\n",
    "import xlrd\n",
    "import xlwt\n",
    "\n",
    "def migration_all_date(areaname,classname,no,direction): #定义生成不同时期，不同城市，不同迁徙方向\n",
    "    if no == -1 :\n",
    "        no = CitiesCode[str(areaname)]\n",
    "    #######创建一个workbook########\n",
    "    workbook = xlwt.Workbook(encoding = 'utf-8')    # 创建一个workbook 设置编码\n",
    "    worksheet = workbook.add_sheet('Sheet', cell_overwrite_ok=True)    # 创建一个worksheet\n",
    "    #################写入行头各城市代码及其城市名###############\n",
    "    if direction == 'in' :\n",
    "        nameofdire = '迁入来源地'\n",
    "    if direction == 'out':\n",
    "        nameofdire = '迁出目的地'\n",
    "    CitiesOrder = {}                         #存放城市序号的空字典\n",
    "    worksheet.write(0 , 0 , label='城市代码')                      #写入行头\n",
    "    worksheet.write(0 , 1 , label=str(nameofdire))                 #写入行头\n",
    "    times = 1\n",
    "    for key , value in CitiesCode.items():\n",
    "        worksheet.write(times , 0 , label=str(value))                #写入城市代码\n",
    "        worksheet.write(times , 1 , label=str(key))                  #写入城市名\n",
    "        CitiesOrder[str(key)] = times                           #写入城市序号字典 \n",
    "        times += 1\n",
    "    ########################设定日期##############################\n",
    "    datelist = []                                    #日期列表\n",
    "    counter_data = 2                                 #日期计数器\n",
    "    for date1 in range(20200101,20200132):           #一月份\n",
    "        datelist.append(date1)\n",
    "    for date2 in range(20200201,20200230):           #二月份\n",
    "        datelist.append(date2)\n",
    "    #for date3 in range(20200301,20200302):          #三月份\n",
    "        #datelist.append(date3)\n",
    "    for date in datelist:                            #遍历所有日期\n",
    "        datename = date\n",
    "        time.sleep(1)  \n",
    "        url=f'http://huiyan.baidu.com/migration/cityrank.jsonp?dt={classname}&id={no}&type=move_{direction}&date={date}'\n",
    "        print(url)\n",
    "        response=requests.get(url, timeout=10) #发出请求并json化处理\n",
    "        time.sleep(3)  \n",
    "        r=response.text[3:-1] #去头去尾\n",
    "        data_dict=json.loads(r) #字典化\n",
    "        if data_dict['errmsg']=='SUCCESS':\n",
    "            data_list=data_dict['data']['list']\n",
    "            time.sleep(1)\n",
    "            ################写入###############\n",
    "            worksheet.write(0 , counter_data , label=datename)             #写入表头————日期\n",
    "            for a in range(len(CitiesCode)):\n",
    "                worksheet.write(a+1 , counter_data , label=0)              #先把当前日期下该列所有城市值置0\n",
    "            ############获取数据###########\n",
    "            for i in range (len(data_list)):\n",
    "                city_name=data_list[i]['city_name'] #城市名\n",
    "                value=data_list[i]['value']         #当日迁徙量所占百分比值\n",
    "            ##############写入#############\n",
    "                worksheet.write(CitiesOrder[str(city_name)] , counter_data , label=value)             #查找城市序号字典，在对应的行里写入相应的值\n",
    "            counter_data += 1                                 #日期计数器自加一\n",
    "    workbook.save(f\"{areaname}-{nameofdire}.xls\")      #保存\n",
    "\n",
    "\n",
    "def circu_exe_direction(areaname,classname,no):\n",
    "    mukous = ['in','out']\n",
    "    for mukou in mukous:\n",
    "        migration_all_date(areaname,classname,no,mukou)\n",
    "    print(str(areaname)+'---','完成')\n",
    "\n",
    "\n",
    "if __name__==\"__main__\":\n",
    "\n",
    "    circu_exe_direction('北京市','province',110000)\n",
    "    print('全部完成')\n"
   ]
  },
  {
   "cell_type": "code",
   "execution_count": null,
   "metadata": {},
   "outputs": [],
   "source": []
  }
 ],
 "metadata": {
  "kernelspec": {
   "display_name": "Python 3",
   "language": "python",
   "name": "python3"
  },
  "language_info": {
   "codemirror_mode": {
    "name": "ipython",
    "version": 3
   },
   "file_extension": ".py",
   "mimetype": "text/x-python",
   "name": "python",
   "nbconvert_exporter": "python",
   "pygments_lexer": "ipython3",
   "version": "3.7.3"
  },
  "nbTranslate": {
   "displayLangs": [
    "*"
   ],
   "hotkey": "alt-t",
   "langInMainMenu": true,
   "sourceLang": "en",
   "targetLang": "fr",
   "useGoogleTranslate": true
  },
  "toc": {
   "base_numbering": 1,
   "nav_menu": {},
   "number_sections": true,
   "sideBar": true,
   "skip_h1_title": false,
   "title_cell": "Table of Contents",
   "title_sidebar": "Contents",
   "toc_cell": true,
   "toc_position": {},
   "toc_section_display": true,
   "toc_window_display": false
  },
  "varInspector": {
   "cols": {
    "lenName": 16,
    "lenType": 16,
    "lenVar": 40
   },
   "kernels_config": {
    "python": {
     "delete_cmd_postfix": "",
     "delete_cmd_prefix": "del ",
     "library": "var_list.py",
     "varRefreshCmd": "print(var_dic_list())"
    },
    "r": {
     "delete_cmd_postfix": ") ",
     "delete_cmd_prefix": "rm(",
     "library": "var_list.r",
     "varRefreshCmd": "cat(var_dic_list()) "
    }
   },
   "types_to_exclude": [
    "module",
    "function",
    "builtin_function_or_method",
    "instance",
    "_Feature"
   ],
   "window_display": false
  }
 },
 "nbformat": 4,
 "nbformat_minor": 2
}
