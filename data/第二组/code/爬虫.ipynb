{
 "cells": [
  {
   "cell_type": "markdown",
   "metadata": {
    "toc": true
   },
   "source": [
    "<h1>Table of Contents<span class=\"tocSkip\"></span></h1>\n",
    "<div class=\"toc\"><ul class=\"toc-item\"></ul></div>"
   ]
  },
  {
   "cell_type": "code",
   "execution_count": 2,
   "metadata": {
    "ExecuteTime": {
     "end_time": "2020-03-26T14:27:48.759172Z",
     "start_time": "2020-03-26T14:27:47.800730Z"
    },
    "code_folding": []
   },
   "outputs": [
    {
     "name": "stdout",
     "output_type": "stream",
     "text": [
      "0\n",
      "['', '5150', '11872', '13120', '11334', '10566', '11770', '10593', '10535', '10346', '10424', '12458', '11426', '10808', '11102', '14128', '14466', '13665', '14820', '14886', '13554', '13957', '13530', '13114', '11142', '10409', '12705', '12947', '13860', '17955', '13264', '10027', '10413', '11890', '9760', '22499', '13936', '12904', '13282', '12062', '9439', '13958', '9340', '9802', '9152', '8010', '8032', '7496', '9389', '7789', '7567', '7530', '8399', '8640', '8561', '8297', '9446', '7716', '7497', '7924']\n"
     ]
    }
   ],
   "source": [
    "import requests\n",
    "\n",
    "import sys\n",
    "import time\n",
    "import xlwt\n",
    " \n",
    "word_url = 'http://index.baidu.com/api/SearchApi/thumbnail?area=&word={}'\n",
    "COOKIES = 'BIDUPSID=84A5A425F78E7C3DE5BB7305B7B9EC39; PSTM=1542886758; BAIDUID=FB50141361C1DEF3ED1D3B52B9DAEDFD:FG=1; BDUSS=ZjfnVzdExheVBDZ1ozdm1VaG1yYnNXZHYwYmZIRjRvNXhZak9peHVpanVUWU5lRVFBQUFBJCQAAAAAAAAAAAEAAABY2FvRYWNnamtnAAAAAAAAAAAAAAAAAAAAAAAAAAAAAAAAAAAAAAAAAAAAAAAAAAAAAAAAAAAAAAAAAAAAAAAAAAAAAO7AW17uwFteUU; ZD_ENTRY=baidu; delPer=0; PSINO=1; H_PS_PSSID=30962_1445_21086_30905_31085; BDORZ=FFFB88E999055A3F8A630C64834BD6D0; bdindexid=9pnhui45uvpc2o8p2c43bflmt7; Hm_lvt_d101ea4d2a5c67dab98251f0b5de24dc=1584947953,1585025541; Hm_lpvt_d101ea4d2a5c67dab98251f0b5de24dc=1585034857; RT=\"sl=0&ss=k85j4rb6&tt=0&bcn=https%3A%2F%2Ffclog.baidu.com%2Flog%2Fweirwood%3Ftype%3Dperf&z=1&dm=baidu.com&si=9kbgg6v3m99\"'\n",
    " \n",
    "def decrypt(t,e):\n",
    "    n = list(t)\n",
    "    i = list(e)\n",
    "    a = {}\n",
    "    result = []\n",
    "    ln = int(len(n)/2)\n",
    "    start = n[ln:]\n",
    "    end = n[:ln]\n",
    "    for j,k in zip(start, end):\n",
    "        a.update({k: j})\n",
    "    for j in e:\n",
    "        result.append(a.get(j))\n",
    "    return ''.join(result)\n",
    "    \n",
    "    \n",
    "def get_index_home(keyword):\n",
    "    headers = {\n",
    "        'User-Agent': 'Mozilla/5.0 (Macintosh; Intel Mac OS X 10_13_6) AppleWebKit/537.36 (KHTML, like Gecko) Chrome/75.0.3770.90 Safari/537.36',\n",
    "        'Cookie': COOKIES\n",
    "    }\n",
    "    resp = requests.get(word_url.format(keyword), headers=headers)\n",
    "    j = resp.json()\n",
    "    uniqid = j.get('data').get('uniqid')\n",
    "    return get_ptbk(uniqid)\n",
    "    \n",
    " \n",
    "def get_ptbk(uniqid):\n",
    "    url = 'http://index.baidu.com/Interface/ptbk?uniqid={}'\n",
    "    ptbk_headers = {\n",
    "        'Accept': 'application/json, text/plain, */*',\n",
    "        'Accept-Encoding': 'gzip, deflate',\n",
    "        'Accept-Language': 'zh-CN,zh;q=0.9',\n",
    "        'Cache-Control': 'no-cache',\n",
    "        'Cookie': COOKIES,\n",
    "        'DNT': '1',\n",
    "        'Host': 'index.baidu.com',\n",
    "        'Pragma': 'no-cache',\n",
    "        'Proxy-Connection': 'keep-alive',\n",
    "        'Referer': 'http://index.baidu.com/v2/main/index.html',\n",
    "        'User-Agent': 'Mozilla/5.0 (Macintosh; Intel Mac OS X 10_13_6) AppleWebKit/537.36 (KHTML, like Gecko) Chrome/75.0.3770.90 Safari/537.36',\n",
    "        'X-Requested-With': 'XMLHttpRequest',\n",
    "    }\n",
    "    resp = requests.get(url.format(uniqid), headers=ptbk_headers)\n",
    "    if resp.status_code != 200:\n",
    "        print('获取uniqid失败')\n",
    "        sys.exit(1)\n",
    "    return resp.json().get('data')\n",
    "    \n",
    " \n",
    "def get_index_data(keyword,area, start='2020-01-23', end='2020-03-26'):\n",
    "    url = f'http://index.baidu.com/api/SearchApi/index?word={keyword}&area={area}&startDate={start}&endDate={end}'\n",
    "    headers = {\n",
    "        'Accept': 'application/json, text/plain, */*',\n",
    "        'Accept-Encoding': 'gzip, deflate',\n",
    "        'Accept-Language': 'zh-CN,zh;q=0.9',\n",
    "        'Cache-Control': 'no-cache',\n",
    "        'Cookie': COOKIES,\n",
    "        'DNT': '1',\n",
    "        'Host': 'index.baidu.com',\n",
    "        'Pragma': 'no-cache',\n",
    "        'Proxy-Connection': 'keep-alive',\n",
    "        'Referer': 'http://index.baidu.com/v2/main/index.html',\n",
    "        'User-Agent': 'Mozilla/5.0 (Macintosh; Intel Mac OS X 10_13_6) AppleWebKit/537.36 (KHTML, like Gecko) Chrome/75.0.3770.90 Safari/537.36',\n",
    "        'X-Requested-With': 'XMLHttpRequest',\n",
    "    }\n",
    "    resp = requests.get(url, headers=headers)\n",
    "    if resp.status_code != 200:\n",
    "        print('获取指数失败')\n",
    "        sys.exit(1)\n",
    "    data = resp.json().get('data').get('userIndexes')[0]\n",
    "    uniqid = data.get('uniqid')\n",
    "    ptbk = get_index_home(uniqid)\n",
    "    while ptbk is None or ptbk == '':\n",
    "        ptbk = get_index_home(uniqid)\n",
    "    all_data = data.get('all').get('data')\n",
    "    result = decrypt(ptbk, all_data)\n",
    "    result = result.split(',')\n",
    "    print(area)\n",
    "    print(result)\n",
    "    \n",
    " \n",
    "if __name__ == '__main__':\n",
    "    get_index_data('北京疫情',0)\n",
    "\n"
   ]
  },
  {
   "cell_type": "code",
   "execution_count": null,
   "metadata": {},
   "outputs": [],
   "source": []
  }
 ],
 "metadata": {
  "kernelspec": {
   "display_name": "Python 3",
   "language": "python",
   "name": "python3"
  },
  "language_info": {
   "codemirror_mode": {
    "name": "ipython",
    "version": 3
   },
   "file_extension": ".py",
   "mimetype": "text/x-python",
   "name": "python",
   "nbconvert_exporter": "python",
   "pygments_lexer": "ipython3",
   "version": "3.7.3"
  },
  "nbTranslate": {
   "displayLangs": [
    "*"
   ],
   "hotkey": "alt-t",
   "langInMainMenu": true,
   "sourceLang": "en",
   "targetLang": "fr",
   "useGoogleTranslate": true
  },
  "toc": {
   "base_numbering": 1,
   "nav_menu": {},
   "number_sections": true,
   "sideBar": true,
   "skip_h1_title": false,
   "title_cell": "Table of Contents",
   "title_sidebar": "Contents",
   "toc_cell": true,
   "toc_position": {},
   "toc_section_display": true,
   "toc_window_display": false
  },
  "varInspector": {
   "cols": {
    "lenName": 16,
    "lenType": 16,
    "lenVar": 40
   },
   "kernels_config": {
    "python": {
     "delete_cmd_postfix": "",
     "delete_cmd_prefix": "del ",
     "library": "var_list.py",
     "varRefreshCmd": "print(var_dic_list())"
    },
    "r": {
     "delete_cmd_postfix": ") ",
     "delete_cmd_prefix": "rm(",
     "library": "var_list.r",
     "varRefreshCmd": "cat(var_dic_list()) "
    }
   },
   "types_to_exclude": [
    "module",
    "function",
    "builtin_function_or_method",
    "instance",
    "_Feature"
   ],
   "window_display": false
  }
 },
 "nbformat": 4,
 "nbformat_minor": 2
}
